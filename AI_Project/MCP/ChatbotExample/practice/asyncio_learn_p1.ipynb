{
 "cells": [
  {
   "cell_type": "code",
   "id": "initial_id",
   "metadata": {
    "collapsed": true
   },
   "source": [
    "import asyncio\n",
    "\n",
    "async def task(name,delay):\n",
    "    print(f\"Task {name} started, will take {delay} seconds\")\n",
    "    await asyncio.sleep(delay)\n",
    "    print(f\"Task {name} completed after {delay} seconds\")\n",
    "    return f\"Result of task {name}\"\n",
    "\n",
    "\n",
    "async def main():\n",
    "    result = task(\"A\", 2)\n",
    "    print(result)\n"
   ],
   "outputs": [],
   "execution_count": null
  },
  {
   "metadata": {
    "ExecuteTime": {
     "end_time": "2025-06-12T06:05:59.877827Z",
     "start_time": "2025-06-12T06:05:59.874220Z"
    }
   },
   "cell_type": "code",
   "source": [
    "import asyncio\n",
    "async def task_created(name,delay):\n",
    "    print(f\"Task {name} started\")\n",
    "    await asyncio.sleep(delay)\n",
    "    print(f\"Task {name} completed after {delay} seconds\")\n",
    "    return f\"{name} is done\"\n",
    "\n",
    "task_obj1 = asyncio.create_task(task_created(\"A\", 2))\n",
    "task_obj2 = asyncio.create_task(task_created(\"B\", 1))\n",
    "print(\"task_obj1 and task_obj2 都放进时间循环了\")\n",
    "# result1 = await task_obj1\n",
    "# result2 = await task_obj2\n",
    "print(\"task_obj1 and task_obj2 都执行完了\")\n",
    "print(task_obj1)\n",
    "print(task_obj2)\n",
    "# print(result1)\n",
    "# print(result2)\n"
   ],
   "id": "f77029a14e5a6e12",
   "outputs": [
    {
     "name": "stdout",
     "output_type": "stream",
     "text": [
      "task_obj1 and task_obj2 都放进时间循环了\n",
      "task_obj1 and task_obj2 都执行完了\n",
      "<Task pending name='Task-9' coro=<task_created() running at /var/folders/hs/s5j8n4hs315_s7646lw6j0800000gn/T/ipykernel_8734/3761365105.py:2>>\n",
      "<Task pending name='Task-10' coro=<task_created() running at /var/folders/hs/s5j8n4hs315_s7646lw6j0800000gn/T/ipykernel_8734/3761365105.py:2>>\n",
      "Task A started\n",
      "Task B started\n",
      "Task B completed after 1 seconds\n",
      "Task A completed after 2 seconds\n"
     ]
    }
   ],
   "execution_count": 4
  },
  {
   "metadata": {},
   "cell_type": "code",
   "source": "",
   "id": "5a14e201a969cbf2",
   "outputs": [],
   "execution_count": null
  }
 ],
 "metadata": {
  "kernelspec": {
   "display_name": "Python 3",
   "language": "python",
   "name": "python3"
  },
  "language_info": {
   "codemirror_mode": {
    "name": "ipython",
    "version": 2
   },
   "file_extension": ".py",
   "mimetype": "text/x-python",
   "name": "python",
   "nbconvert_exporter": "python",
   "pygments_lexer": "ipython2",
   "version": "2.7.6"
  }
 },
 "nbformat": 4,
 "nbformat_minor": 5
}
