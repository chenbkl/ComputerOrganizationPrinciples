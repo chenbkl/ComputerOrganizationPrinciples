{
 "cells": [
  {
   "cell_type": "code",
   "id": "initial_id",
   "metadata": {
    "collapsed": true,
    "ExecuteTime": {
     "end_time": "2025-06-20T11:44:01.224004Z",
     "start_time": "2025-06-20T11:44:01.198143Z"
    }
   },
   "source": [
    "import json\n",
    "\n",
    "\n",
    "class Cat:\n",
    "    name:str\n",
    "    age:int\n",
    "    desc:str\n",
    "\n",
    "    def __init__(self, name, age, desc):\n",
    "        self.name = name\n",
    "        self.age = age\n",
    "        self.desc = desc\n",
    "\n",
    "\n",
    "cat = Cat()\n",
    "print(cat)\n",
    "\n",
    "cat1 = {\n",
    "    \"name\": \"Tom\",\n",
    "    \"age\": 3,\n",
    "    \"desc\": \"A cute cat\"\n",
    "}\n",
    "\n",
    "print(cat1)\n",
    "\n",
    "print(type(cat1))"
   ],
   "outputs": [
    {
     "ename": "TypeError",
     "evalue": "Cat.__init__() missing 3 required positional arguments: 'name', 'age', and 'desc'",
     "output_type": "error",
     "traceback": [
      "\u001B[31m---------------------------------------------------------------------------\u001B[39m",
      "\u001B[31mTypeError\u001B[39m                                 Traceback (most recent call last)",
      "\u001B[36mCell\u001B[39m\u001B[36m \u001B[39m\u001B[32mIn[15]\u001B[39m\u001B[32m, line 15\u001B[39m\n\u001B[32m     11\u001B[39m         \u001B[38;5;28mself\u001B[39m.age = age\n\u001B[32m     12\u001B[39m         \u001B[38;5;28mself\u001B[39m.desc = desc\n\u001B[32m---> \u001B[39m\u001B[32m15\u001B[39m cat = \u001B[43mCat\u001B[49m\u001B[43m(\u001B[49m\u001B[43m)\u001B[49m\n\u001B[32m     16\u001B[39m \u001B[38;5;28mprint\u001B[39m(cat)\n\u001B[32m     18\u001B[39m cat1 = {\n\u001B[32m     19\u001B[39m     \u001B[33m\"\u001B[39m\u001B[33mname\u001B[39m\u001B[33m\"\u001B[39m: \u001B[33m\"\u001B[39m\u001B[33mTom\u001B[39m\u001B[33m\"\u001B[39m,\n\u001B[32m     20\u001B[39m     \u001B[33m\"\u001B[39m\u001B[33mage\u001B[39m\u001B[33m\"\u001B[39m: \u001B[32m3\u001B[39m,\n\u001B[32m     21\u001B[39m     \u001B[33m\"\u001B[39m\u001B[33mdesc\u001B[39m\u001B[33m\"\u001B[39m: \u001B[33m\"\u001B[39m\u001B[33mA cute cat\u001B[39m\u001B[33m\"\u001B[39m\n\u001B[32m     22\u001B[39m }\n",
      "\u001B[31mTypeError\u001B[39m: Cat.__init__() missing 3 required positional arguments: 'name', 'age', and 'desc'"
     ]
    }
   ],
   "execution_count": 15
  },
  {
   "metadata": {
    "ExecuteTime": {
     "end_time": "2025-06-20T11:35:05.054640Z",
     "start_time": "2025-06-20T11:35:05.051452Z"
    }
   },
   "cell_type": "code",
   "source": "print(type(cat))",
   "id": "e8f86fc703337948",
   "outputs": [
    {
     "name": "stdout",
     "output_type": "stream",
     "text": [
      "<class '__main__.Cat'>\n"
     ]
    }
   ],
   "execution_count": 5
  },
  {
   "metadata": {
    "ExecuteTime": {
     "end_time": "2025-06-20T11:36:40.560944Z",
     "start_time": "2025-06-20T11:36:40.557375Z"
    }
   },
   "cell_type": "code",
   "source": [
    "import json\n",
    "print(json.dumps(cat1))\n",
    "cat2 = json.dumps(cat1)\n",
    "print(type(cat2))"
   ],
   "id": "6fdf7ef73314e3bb",
   "outputs": [
    {
     "name": "stdout",
     "output_type": "stream",
     "text": [
      "{\"name\": \"Tom\", \"age\": 3, \"desc\": \"A cute cat\"}\n",
      "<class 'str'>\n"
     ]
    }
   ],
   "execution_count": 8
  },
  {
   "metadata": {
    "ExecuteTime": {
     "end_time": "2025-06-20T11:46:06.478383Z",
     "start_time": "2025-06-20T11:46:06.472372Z"
    }
   },
   "cell_type": "code",
   "source": [
    "\"\"\"\n",
    "综上所述，json在python中是一个字符串类型，通常用于数据的序列化和反序列化。\n",
    "字典、对象和json三者可以互相转换\n",
    "具体如下：\n",
    "\"\"\"\n",
    "#json转字典\n",
    "json_cat = \"\"\"{\"name\": \"Tom\", \"age\": 3, \"desc\": \"A cute cat\"}\"\"\"\n",
    "print(type(json_cat),\"-\",json_cat)\n",
    "dict_cat = json.loads(json_cat)\n",
    "print(type(dict_cat),\"-\",dict_cat)\n",
    "#字典转json\n",
    "print(type(json.dumps(dict_cat)),\"-\",json.dumps(dict_cat))\n",
    "\n",
    "cat_obj = Cat(**dict_cat)\n",
    "#字典转对象\n",
    "print(type(cat_obj),\"-\",cat_obj)\n",
    "\n",
    "#对象转字典\n",
    "print(type(vars(cat_obj)),\"-\",vars(cat_obj))\n",
    "\n",
    "#对象转json\n",
    "print(type(json.dumps(vars(cat_obj))),\"-\",json.dumps(vars(cat_obj)))\n",
    "\n",
    "#也就是说，对象和字典可以互相转换，字典和json也可以互相转换，而对象和json之间需要先转换为字典。\n"
   ],
   "id": "2d21c859ca1b6ba1",
   "outputs": [
    {
     "name": "stdout",
     "output_type": "stream",
     "text": [
      "<class 'str'> - {\"name\": \"Tom\", \"age\": 3, \"desc\": \"A cute cat\"}\n",
      "<class 'dict'> - {'name': 'Tom', 'age': 3, 'desc': 'A cute cat'}\n",
      "<class 'str'> - {\"name\": \"Tom\", \"age\": 3, \"desc\": \"A cute cat\"}\n",
      "<class '__main__.Cat'> - <__main__.Cat object at 0x110b41d00>\n",
      "<class 'dict'> - {'name': 'Tom', 'age': 3, 'desc': 'A cute cat'}\n",
      "<class 'str'> - {\"name\": \"Tom\", \"age\": 3, \"desc\": \"A cute cat\"}\n"
     ]
    }
   ],
   "execution_count": 20
  },
  {
   "metadata": {},
   "cell_type": "code",
   "outputs": [],
   "execution_count": null,
   "source": "",
   "id": "b8d9c41af552c11e"
  }
 ],
 "metadata": {
  "kernelspec": {
   "display_name": "Python 3",
   "language": "python",
   "name": "python3"
  },
  "language_info": {
   "codemirror_mode": {
    "name": "ipython",
    "version": 2
   },
   "file_extension": ".py",
   "mimetype": "text/x-python",
   "name": "python",
   "nbconvert_exporter": "python",
   "pygments_lexer": "ipython2",
   "version": "2.7.6"
  }
 },
 "nbformat": 4,
 "nbformat_minor": 5
}
