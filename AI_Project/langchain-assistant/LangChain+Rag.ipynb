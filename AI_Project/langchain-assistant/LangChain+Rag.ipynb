{
 "cells": [
  {
   "metadata": {
    "ExecuteTime": {
     "end_time": "2025-05-26T08:27:40.867584Z",
     "start_time": "2025-05-26T08:27:39.470134Z"
    }
   },
   "cell_type": "code",
   "source": [
    "from langchain_core.messages import SystemMessage, HumanMessage\n",
    "from langchain_ollama import OllamaLLM\n",
    "\n",
    "model = OllamaLLM(model=\"llama3\")\n",
    "\n",
    "messages = [SystemMessage(\"You are a helpful assistant.\"),HumanMessage(\"hi!\")]\n",
    "response = model.invoke(messages)\n",
    "print(messages)\n",
    "print(response)"
   ],
   "id": "7fee21623a5a3711",
   "outputs": [
    {
     "name": "stdout",
     "output_type": "stream",
     "text": [
      "[SystemMessage(content='You are a helpful assistant.', additional_kwargs={}, response_metadata={}), HumanMessage(content='hi!', additional_kwargs={}, response_metadata={})]\n",
      "Hi there! It's great to meet you! How can I help you today? Do you have any questions, need assistance with something, or just want to chat? I'm here for you!\n"
     ]
    }
   ],
   "execution_count": 3
  },
  {
   "metadata": {
    "ExecuteTime": {
     "end_time": "2025-05-26T08:28:23.435392Z",
     "start_time": "2025-05-26T08:28:20.375152Z"
    }
   },
   "cell_type": "code",
   "source": "print(model.invoke(\"你会进行语音转文字吗？\"))",
   "id": "548777e1eb34da3a",
   "outputs": [
    {
     "name": "stdout",
     "output_type": "stream",
     "text": [
      "😊 Yes, I can perform speech-to-text (also known as voice-to-text or dictation) for you. Please speak clearly and at a moderate pace. Keep in mind that my accuracy may vary depending on the complexity of your language, accents, and background noise.\n",
      "\n",
      "To start, please say \"Go\" or press enter to begin the transcription process. I'll do my best to capture what you're saying and convert it into written text.\n"
     ]
    }
   ],
   "execution_count": 4
  },
  {
   "metadata": {},
   "cell_type": "code",
   "outputs": [],
   "execution_count": null,
   "source": "",
   "id": "b40f9289afc6c0ad"
  }
 ],
 "metadata": {
  "kernelspec": {
   "display_name": "Python 3",
   "language": "python",
   "name": "python3"
  },
  "language_info": {
   "codemirror_mode": {
    "name": "ipython",
    "version": 2
   },
   "file_extension": ".py",
   "mimetype": "text/x-python",
   "name": "python",
   "nbconvert_exporter": "python",
   "pygments_lexer": "ipython2",
   "version": "2.7.6"
  }
 },
 "nbformat": 4,
 "nbformat_minor": 5
}
